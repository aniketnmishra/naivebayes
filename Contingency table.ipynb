{
 "cells": [
  {
   "cell_type": "code",
   "execution_count": 15,
   "metadata": {},
   "outputs": [],
   "source": [
    "#importing required libraries\n",
    "import numpy as np \n",
    "import pandas as pd \n",
    "import matplotlib as plt\n",
    "import seaborn as sns\n",
    "%matplotlib inline"
   ]
  },
  {
   "cell_type": "code",
   "execution_count": 16,
   "metadata": {},
   "outputs": [
    {
     "name": "stdout",
     "output_type": "stream",
     "text": [
      "   age  edu_wife  edu_husband  children  religion  working  job_husband  \\\n",
      "0   24         2            3         3         1        1            2   \n",
      "1   45         1            3        10         1        1            3   \n",
      "2   43         2            3         7         1        1            3   \n",
      "3   42         3            2         9         1        1            3   \n",
      "4   36         3            3         8         1        1            3   \n",
      "5   19         4            4         0         1        1            3   \n",
      "6   38         2            3         6         1        1            3   \n",
      "7   21         3            3         1         1        0            3   \n",
      "8   27         2            3         3         1        1            3   \n",
      "9   45         1            1         8         1        1            2   \n",
      "\n",
      "   living_std  media  contraceptive  \n",
      "0           3      0              1  \n",
      "1           4      0              1  \n",
      "2           4      0              1  \n",
      "3           3      0              1  \n",
      "4           2      0              1  \n",
      "5           3      0              1  \n",
      "6           2      0              1  \n",
      "7           2      0              1  \n",
      "8           4      0              1  \n",
      "9           2      1              1  \n"
     ]
    }
   ],
   "source": [
    "data = pd.read_csv(\"CMC.csv\")\n",
    "print(data.head(10)) "
   ]
  },
  {
   "cell_type": "code",
   "execution_count": 17,
   "metadata": {},
   "outputs": [
    {
     "data": {
      "text/html": [
       "<div>\n",
       "<style scoped>\n",
       "    .dataframe tbody tr th:only-of-type {\n",
       "        vertical-align: middle;\n",
       "    }\n",
       "\n",
       "    .dataframe tbody tr th {\n",
       "        vertical-align: top;\n",
       "    }\n",
       "\n",
       "    .dataframe thead th {\n",
       "        text-align: right;\n",
       "    }\n",
       "</style>\n",
       "<table border=\"1\" class=\"dataframe\">\n",
       "  <thead>\n",
       "    <tr style=\"text-align: right;\">\n",
       "      <th></th>\n",
       "      <th>age</th>\n",
       "      <th>edu_wife</th>\n",
       "      <th>edu_husband</th>\n",
       "      <th>children</th>\n",
       "      <th>religion</th>\n",
       "      <th>working</th>\n",
       "      <th>job_husband</th>\n",
       "      <th>living_std</th>\n",
       "      <th>media</th>\n",
       "      <th>contraceptive</th>\n",
       "    </tr>\n",
       "  </thead>\n",
       "  <tbody>\n",
       "    <tr>\n",
       "      <td>count</td>\n",
       "      <td>1473.000000</td>\n",
       "      <td>1473.000000</td>\n",
       "      <td>1473.000000</td>\n",
       "      <td>1473.000000</td>\n",
       "      <td>1473.000000</td>\n",
       "      <td>1473.000000</td>\n",
       "      <td>1473.000000</td>\n",
       "      <td>1473.000000</td>\n",
       "      <td>1473.000000</td>\n",
       "      <td>1473.000000</td>\n",
       "    </tr>\n",
       "    <tr>\n",
       "      <td>mean</td>\n",
       "      <td>32.538357</td>\n",
       "      <td>2.958588</td>\n",
       "      <td>3.429735</td>\n",
       "      <td>3.261371</td>\n",
       "      <td>0.850645</td>\n",
       "      <td>0.749491</td>\n",
       "      <td>2.137814</td>\n",
       "      <td>3.133741</td>\n",
       "      <td>0.073999</td>\n",
       "      <td>1.919891</td>\n",
       "    </tr>\n",
       "    <tr>\n",
       "      <td>std</td>\n",
       "      <td>8.227245</td>\n",
       "      <td>1.014994</td>\n",
       "      <td>0.816349</td>\n",
       "      <td>2.358549</td>\n",
       "      <td>0.356559</td>\n",
       "      <td>0.433453</td>\n",
       "      <td>0.864857</td>\n",
       "      <td>0.976161</td>\n",
       "      <td>0.261858</td>\n",
       "      <td>0.876376</td>\n",
       "    </tr>\n",
       "    <tr>\n",
       "      <td>min</td>\n",
       "      <td>16.000000</td>\n",
       "      <td>1.000000</td>\n",
       "      <td>1.000000</td>\n",
       "      <td>0.000000</td>\n",
       "      <td>0.000000</td>\n",
       "      <td>0.000000</td>\n",
       "      <td>1.000000</td>\n",
       "      <td>1.000000</td>\n",
       "      <td>0.000000</td>\n",
       "      <td>1.000000</td>\n",
       "    </tr>\n",
       "    <tr>\n",
       "      <td>25%</td>\n",
       "      <td>26.000000</td>\n",
       "      <td>2.000000</td>\n",
       "      <td>3.000000</td>\n",
       "      <td>1.000000</td>\n",
       "      <td>1.000000</td>\n",
       "      <td>0.000000</td>\n",
       "      <td>1.000000</td>\n",
       "      <td>3.000000</td>\n",
       "      <td>0.000000</td>\n",
       "      <td>1.000000</td>\n",
       "    </tr>\n",
       "    <tr>\n",
       "      <td>50%</td>\n",
       "      <td>32.000000</td>\n",
       "      <td>3.000000</td>\n",
       "      <td>4.000000</td>\n",
       "      <td>3.000000</td>\n",
       "      <td>1.000000</td>\n",
       "      <td>1.000000</td>\n",
       "      <td>2.000000</td>\n",
       "      <td>3.000000</td>\n",
       "      <td>0.000000</td>\n",
       "      <td>2.000000</td>\n",
       "    </tr>\n",
       "    <tr>\n",
       "      <td>75%</td>\n",
       "      <td>39.000000</td>\n",
       "      <td>4.000000</td>\n",
       "      <td>4.000000</td>\n",
       "      <td>4.000000</td>\n",
       "      <td>1.000000</td>\n",
       "      <td>1.000000</td>\n",
       "      <td>3.000000</td>\n",
       "      <td>4.000000</td>\n",
       "      <td>0.000000</td>\n",
       "      <td>3.000000</td>\n",
       "    </tr>\n",
       "    <tr>\n",
       "      <td>max</td>\n",
       "      <td>49.000000</td>\n",
       "      <td>4.000000</td>\n",
       "      <td>4.000000</td>\n",
       "      <td>16.000000</td>\n",
       "      <td>1.000000</td>\n",
       "      <td>1.000000</td>\n",
       "      <td>4.000000</td>\n",
       "      <td>4.000000</td>\n",
       "      <td>1.000000</td>\n",
       "      <td>3.000000</td>\n",
       "    </tr>\n",
       "  </tbody>\n",
       "</table>\n",
       "</div>"
      ],
      "text/plain": [
       "               age     edu_wife  edu_husband     children     religion  \\\n",
       "count  1473.000000  1473.000000  1473.000000  1473.000000  1473.000000   \n",
       "mean     32.538357     2.958588     3.429735     3.261371     0.850645   \n",
       "std       8.227245     1.014994     0.816349     2.358549     0.356559   \n",
       "min      16.000000     1.000000     1.000000     0.000000     0.000000   \n",
       "25%      26.000000     2.000000     3.000000     1.000000     1.000000   \n",
       "50%      32.000000     3.000000     4.000000     3.000000     1.000000   \n",
       "75%      39.000000     4.000000     4.000000     4.000000     1.000000   \n",
       "max      49.000000     4.000000     4.000000    16.000000     1.000000   \n",
       "\n",
       "           working  job_husband   living_std        media  contraceptive  \n",
       "count  1473.000000  1473.000000  1473.000000  1473.000000    1473.000000  \n",
       "mean      0.749491     2.137814     3.133741     0.073999       1.919891  \n",
       "std       0.433453     0.864857     0.976161     0.261858       0.876376  \n",
       "min       0.000000     1.000000     1.000000     0.000000       1.000000  \n",
       "25%       0.000000     1.000000     3.000000     0.000000       1.000000  \n",
       "50%       1.000000     2.000000     3.000000     0.000000       2.000000  \n",
       "75%       1.000000     3.000000     4.000000     0.000000       3.000000  \n",
       "max       1.000000     4.000000     4.000000     1.000000       3.000000  "
      ]
     },
     "execution_count": 17,
     "metadata": {},
     "output_type": "execute_result"
    }
   ],
   "source": [
    "data.describe()"
   ]
  },
  {
   "cell_type": "code",
   "execution_count": 18,
   "metadata": {},
   "outputs": [
    {
     "name": "stdout",
     "output_type": "stream",
     "text": [
      "<class 'pandas.core.frame.DataFrame'>\n",
      "RangeIndex: 1473 entries, 0 to 1472\n",
      "Data columns (total 10 columns):\n",
      "age              1473 non-null int64\n",
      "edu_wife         1473 non-null int64\n",
      "edu_husband      1473 non-null int64\n",
      "children         1473 non-null int64\n",
      "religion         1473 non-null int64\n",
      "working          1473 non-null int64\n",
      "job_husband      1473 non-null int64\n",
      "living_std       1473 non-null int64\n",
      "media            1473 non-null int64\n",
      "contraceptive    1473 non-null int64\n",
      "dtypes: int64(10)\n",
      "memory usage: 115.2 KB\n"
     ]
    }
   ],
   "source": [
    "data.info()"
   ]
  },
  {
   "cell_type": "code",
   "execution_count": 19,
   "metadata": {},
   "outputs": [
    {
     "data": {
      "text/plain": [
       "age              int64\n",
       "edu_wife         int64\n",
       "edu_husband      int64\n",
       "children         int64\n",
       "religion         int64\n",
       "working          int64\n",
       "job_husband      int64\n",
       "living_std       int64\n",
       "media            int64\n",
       "contraceptive    int64\n",
       "dtype: object"
      ]
     },
     "execution_count": 19,
     "metadata": {},
     "output_type": "execute_result"
    }
   ],
   "source": [
    "data.dtypes"
   ]
  },
  {
   "cell_type": "code",
   "execution_count": 20,
   "metadata": {},
   "outputs": [],
   "source": [
    "data.drop(['age', 'children'], axis = 1, inplace = True);"
   ]
  },
  {
   "cell_type": "code",
   "execution_count": 21,
   "metadata": {},
   "outputs": [
    {
     "data": {
      "text/plain": [
       "Index(['edu_wife', 'edu_husband', 'religion', 'working', 'job_husband',\n",
       "       'living_std', 'media', 'contraceptive'],\n",
       "      dtype='object')"
      ]
     },
     "execution_count": 21,
     "metadata": {},
     "output_type": "execute_result"
    }
   ],
   "source": [
    "data.columns"
   ]
  },
  {
   "cell_type": "code",
   "execution_count": 22,
   "metadata": {},
   "outputs": [
    {
     "name": "stdout",
     "output_type": "stream",
     "text": [
      "\n",
      "Contraceptive and Wife Education\n",
      "\n",
      "\n",
      "The contingency (two-way frequency table) is given below\n",
      "\n",
      "          no-use  long-term  short-term  rowtotal\n",
      "low          103          9          40       152\n",
      "high1        176         37         121       334\n",
      "high2        175         80         155       410\n",
      "high3        175        207         195       577\n",
      "coltotal     629        333         511      1473\n",
      "\n",
      "Next we will calculate the prior probabilities(represented by values in the printed table) by dividing with the respective column totals\n",
      "\n",
      "            no-use  long-term  short-term  rowtotal\n",
      "low       0.163752   0.027027    0.078278  0.103191\n",
      "high1     0.279809   0.111111    0.236791  0.226748\n",
      "high2     0.278219   0.240240    0.303327  0.278344\n",
      "high3     0.278219   0.621622    0.381605  0.391718\n",
      "coltotal  1.000000   1.000000    1.000000  1.000000\n",
      "\n",
      "Next we will calculate the posterior probabilities(represented by values in the printed table) by dividing with the respective row totals\n",
      "\n",
      "            no-use  long-term  short-term  rowtotal\n",
      "low       0.677632   0.059211    0.263158       1.0\n",
      "high1     0.526946   0.110778    0.362275       1.0\n",
      "high2     0.426829   0.195122    0.378049       1.0\n",
      "high3     0.303293   0.358752    0.337955       1.0\n",
      "coltotal  0.427020   0.226069    0.346911       1.0\n",
      "\n",
      "Next we will represent the above contingency table in the form of heatmap using seaborn library \n",
      "\n",
      "AxesSubplot(0.125,0.125;0.62x0.755)\n"
     ]
    },
    {
     "data": {
      "image/png": "[encoded data removed]",
      "text/plain": [
       "<Figure size 432x288 with 2 Axes>"
      ]
     },
     "metadata": {
      "needs_background": "light"
     },
     "output_type": "display_data"
    }
   ],
   "source": [
    "print('\\nContraceptive and Wife Education\\n')\n",
    "edu_wife_effect = pd.crosstab(index = data['edu_wife'], columns = data['contraceptive'], margins=True, margins_name=\"Total\")\n",
    "edu_wife_effect.columns = [\"no-use\",\"long-term\",\"short-term\",\"rowtotal\"]\n",
    "edu_wife_effect.index= [\"low\",\"high1\",\"high2\",\"high3\",\"coltotal\"]\n",
    "print('\\nThe contingency (two-way frequency table) is given below\\n')\n",
    "print(edu_wife_effect)\n",
    "\n",
    "print('\\nNext we will calculate the prior probabilities(represented by values in the printed table) by dividing with the respective column totals\\n')\n",
    "print(edu_wife_effect/edu_wife_effect.loc[\"coltotal\"])\n",
    "\n",
    "print('\\nNext we will calculate the posterior probabilities(represented by values in the printed table) by dividing with the respective row totals\\n')\n",
    "print(edu_wife_effect.div(edu_wife_effect[\"rowtotal\"],axis=0))\n",
    "\n",
    "print('\\nNext we will represent the above contingency table in the form of heatmap using seaborn library \\n')\n",
    "edu_wife_effect1 = pd.crosstab(index = data['edu_wife'], columns = data['contraceptive'])\n",
    "print(sns.heatmap(edu_wife_effect1,cmap = 'YlGnBu', linewidths=.5, annot=True, fmt='d'))\n",
    "#sns.despine(left=True, bottom=True, right=True)"
   ]
  },
  {
   "cell_type": "markdown",
   "metadata": {},
   "source": [
    "Clearly, the no. of no use of contraceptive remains unaffected by the education status of wife. But, use of short term methods like condoms, clearly has risen drastically with education which reflects more awareness about STDs and population control."
   ]
  },
  {
   "cell_type": "code",
   "execution_count": 23,
   "metadata": {},
   "outputs": [
    {
     "name": "stdout",
     "output_type": "stream",
     "text": [
      "\n",
      "Contraceptive and Husband Education\n",
      "\n",
      "\n",
      "The contingency (two-way frequency table) is given below\n",
      "\n",
      "          no-use  long-term  short-term  rowtotal\n",
      "low           31         10           3        44\n",
      "high1         99         16          63       178\n",
      "high2        161         50         141       352\n",
      "high3        338        257         304       899\n",
      "coltotal     629        333         511      1473\n",
      "\n",
      "Next we will calculate the prior probabilities(represented by values in the printed table) by dividing with the respective column totals\n",
      "\n",
      "            no-use  long-term  short-term  rowtotal\n",
      "low       0.049285   0.030030    0.005871  0.029871\n",
      "high1     0.157393   0.048048    0.123288  0.120842\n",
      "high2     0.255962   0.150150    0.275930  0.238968\n",
      "high3     0.537361   0.771772    0.594912  0.610319\n",
      "coltotal  1.000000   1.000000    1.000000  1.000000\n",
      "\n",
      "Next we will calculate the posterior probabilities(represented by values in the printed table) by dividing with the respective row totals\n",
      "\n",
      "            no-use  long-term  short-term  rowtotal\n",
      "low       0.704545   0.227273    0.068182       1.0\n",
      "high1     0.556180   0.089888    0.353933       1.0\n",
      "high2     0.457386   0.142045    0.400568       1.0\n",
      "high3     0.375973   0.285873    0.338154       1.0\n",
      "coltotal  0.427020   0.226069    0.346911       1.0\n",
      "\n",
      "Next we will represent the above contingency table in the form of heatmap using seaborn library \n",
      "\n",
      "AxesSubplot(0.125,0.125;0.62x0.755)\n"
     ]
    },
    {
     "data": {
      "image/png": "[encoded data removed]",
      "text/plain": [
       "<Figure size 432x288 with 2 Axes>"
      ]
     },
     "metadata": {
      "needs_background": "light"
     },
     "output_type": "display_data"
    }
   ],
   "source": [
    "print('\\nContraceptive and Husband Education\\n')\n",
    "edu_husband_effect = pd.crosstab(index = data['edu_husband'], columns = data['contraceptive'], margins=True, margins_name=\"Total\")\n",
    "edu_husband_effect.columns = [\"no-use\",\"long-term\",\"short-term\",\"rowtotal\"]\n",
    "edu_husband_effect.index= [\"low\",\"high1\",\"high2\",\"high3\",\"coltotal\"]\n",
    "print('\\nThe contingency (two-way frequency table) is given below\\n')\n",
    "print(edu_husband_effect)\n",
    "\n",
    "print('\\nNext we will calculate the prior probabilities(represented by values in the printed table) by dividing with the respective column totals\\n')\n",
    "print(edu_husband_effect/edu_husband_effect.loc[\"coltotal\"])\n",
    "\n",
    "print('\\nNext we will calculate the posterior probabilities(represented by values in the printed table) by dividing with the respective row totals\\n')\n",
    "print(edu_husband_effect.div(edu_husband_effect[\"rowtotal\"],axis=0))\n",
    "\n",
    "print('\\nNext we will represent the above contingency table in the form of heatmap using seaborn library \\n')\n",
    "edu_husband_effect1 = pd.crosstab(index = data['edu_husband'], columns = data['contraceptive'])\n",
    "print(sns.heatmap(edu_husband_effect1,cmap = 'YlGnBu', linewidths=.5, annot=True, fmt='d'))\n",
    "#sns.despine(left=True, bottom=True, right=True)"
   ]
  },
  {
   "cell_type": "markdown",
   "metadata": {},
   "source": [
    "Same effect as wife education is observed in husband education."
   ]
  },
  {
   "cell_type": "code",
   "execution_count": 24,
   "metadata": {},
   "outputs": [
    {
     "name": "stdout",
     "output_type": "stream",
     "text": [
      "\n",
      "Contraceptive and Religion\n",
      "\n",
      "\n",
      "The contingency (two-way frequency table) is given below\n",
      "\n",
      "           no-use  long-term  short-term  rowtotal\n",
      "non-islam      75         76          69       220\n",
      "islam         554        257         442      1253\n",
      "coltotal      629        333         511      1473\n",
      "\n",
      "Next we will calculate the prior probabilities(represented by values in the printed table) by dividing with the respective column totals\n",
      "\n",
      "             no-use  long-term  short-term  rowtotal\n",
      "non-islam  0.119237   0.228228    0.135029  0.149355\n",
      "islam      0.880763   0.771772    0.864971  0.850645\n",
      "coltotal   1.000000   1.000000    1.000000  1.000000\n",
      "\n",
      "Next we will calculate the posterior probabilities(represented by values in the printed table) by dividing with the respective row totals\n",
      "\n",
      "             no-use  long-term  short-term  rowtotal\n",
      "non-islam  0.340909   0.345455    0.313636       1.0\n",
      "islam      0.442139   0.205108    0.352753       1.0\n",
      "coltotal   0.427020   0.226069    0.346911       1.0\n",
      "\n",
      "Next we will represent the above contingency table in the form of heatmap using seaborn library \n",
      "\n",
      "AxesSubplot(0.125,0.125;0.62x0.755)\n"
     ]
    },
    {
     "data": {
      "image/png": "[encoded data removed]",
      "text/plain": [
       "<Figure size 432x288 with 2 Axes>"
      ]
     },
     "metadata": {
      "needs_background": "light"
     },
     "output_type": "display_data"
    }
   ],
   "source": [
    "print('\\nContraceptive and Religion\\n')\n",
    "religion_effect = pd.crosstab(index = data['religion'], columns = data['contraceptive'], margins=True, margins_name=\"Total\")\n",
    "religion_effect.columns = [\"no-use\",\"long-term\",\"short-term\",\"rowtotal\"]\n",
    "religion_effect.index= [\"non-islam\",\"islam\",\"coltotal\"]\n",
    "print('\\nThe contingency (two-way frequency table) is given below\\n')\n",
    "print(religion_effect)\n",
    "\n",
    "print('\\nNext we will calculate the prior probabilities(represented by values in the printed table) by dividing with the respective column totals\\n')\n",
    "print(religion_effect/religion_effect.loc[\"coltotal\"])\n",
    "\n",
    "print('\\nNext we will calculate the posterior probabilities(represented by values in the printed table) by dividing with the respective row totals\\n')\n",
    "print(religion_effect.div(religion_effect[\"rowtotal\"],axis=0))\n",
    "\n",
    "print('\\nNext we will represent the above contingency table in the form of heatmap using seaborn library \\n')\n",
    "religion_effect1 = pd.crosstab(index = data['religion'], columns = data['contraceptive'])\n",
    "print(sns.heatmap(religion_effect1,cmap = 'YlGnBu', linewidths=.5, annot=True, fmt='d'))\n",
    "#sns.despine(left=True, bottom=True, right=True)"
   ]
  },
  {
   "cell_type": "markdown",
   "metadata": {},
   "source": [
    "As can be verified with high number of children in islam, same can be seen here as the proportion of islam wives in no contraceptive use is exceptionally high."
   ]
  },
  {
   "cell_type": "code",
   "execution_count": 25,
   "metadata": {},
   "outputs": [
    {
     "name": "stdout",
     "output_type": "stream",
     "text": [
      "\n",
      "Contraceptive and Wife working status\n",
      "\n",
      "\n",
      "The contingency (two-way frequency table) is given below\n",
      "\n",
      "             no-use  long-term  short-term  rowtotal\n",
      "working         170         89         110       369\n",
      "not working     459        244         401      1104\n",
      "coltotal        629        333         511      1473\n",
      "\n",
      "Next we will calculate the prior probabilities(represented by values in the printed table) by dividing with the respective column totals\n",
      "\n",
      "              no-use  long-term  short-term  rowtotal\n",
      "working      0.27027   0.267267    0.215264  0.250509\n",
      "not working  0.72973   0.732733    0.784736  0.749491\n",
      "coltotal     1.00000   1.000000    1.000000  1.000000\n",
      "\n",
      "Next we will calculate the posterior probabilities(represented by values in the printed table) by dividing with the respective row totals\n",
      "\n",
      "               no-use  long-term  short-term  rowtotal\n",
      "working      0.460705   0.241192    0.298103       1.0\n",
      "not working  0.415761   0.221014    0.363225       1.0\n",
      "coltotal     0.427020   0.226069    0.346911       1.0\n",
      "\n",
      "Next we will represent the above contingency table in the form of heatmap using seaborn library \n",
      "\n",
      "AxesSubplot(0.125,0.125;0.62x0.755)\n"
     ]
    },
    {
     "data": {
      "image/png": "[encoded data removed]",
      "text/plain": [
       "<Figure size 432x288 with 2 Axes>"
      ]
     },
     "metadata": {
      "needs_background": "light"
     },
     "output_type": "display_data"
    }
   ],
   "source": [
    "print('\\nContraceptive and Wife working status\\n')\n",
    "working_effect = pd.crosstab(index = data['working'], columns = data['contraceptive'], margins=True, margins_name=\"Total\")\n",
    "working_effect.columns = [\"no-use\",\"long-term\",\"short-term\",\"rowtotal\"]\n",
    "working_effect.index= [\"working\",\"not working\",\"coltotal\"]\n",
    "print('\\nThe contingency (two-way frequency table) is given below\\n')\n",
    "print(working_effect)\n",
    "\n",
    "print('\\nNext we will calculate the prior probabilities(represented by values in the printed table) by dividing with the respective column totals\\n')\n",
    "print(working_effect/working_effect.loc[\"coltotal\"])\n",
    "\n",
    "print('\\nNext we will calculate the posterior probabilities(represented by values in the printed table) by dividing with the respective row totals\\n')\n",
    "print(working_effect.div(working_effect[\"rowtotal\"],axis=0))\n",
    "\n",
    "print('\\nNext we will represent the above contingency table in the form of heatmap using seaborn library \\n')\n",
    "working_effect1 = pd.crosstab(index = data['working'], columns = data['contraceptive'])\n",
    "print(sns.heatmap(working_effect1,cmap = 'YlGnBu', linewidths=.5, annot=True, fmt='d'))\n",
    "#sns.despine(left=True, bottom=True, right=True)"
   ]
  },
  {
   "cell_type": "markdown",
   "metadata": {},
   "source": [
    "Clearly, there are more number of not working women, no clear effect can be observed."
   ]
  },
  {
   "cell_type": "code",
   "execution_count": 26,
   "metadata": {},
   "outputs": [
    {
     "name": "stdout",
     "output_type": "stream",
     "text": [
      "\n",
      "Contraceptive and Husband job status\n",
      "\n",
      "\n",
      "The contingency (two-way frequency table) is given below\n",
      "\n",
      "          no-use  long-term  short-term  rowtotal\n",
      "1            158        156         122       436\n",
      "2            200         79         146       425\n",
      "3            258         93         234       585\n",
      "4             13          5           9        27\n",
      "coltotal     629        333         511      1473\n",
      "\n",
      "Next we will calculate the prior probabilities(represented by values in the printed table) by dividing with the respective column totals\n",
      "\n",
      "            no-use  long-term  short-term  rowtotal\n",
      "1         0.251192   0.468468    0.238748  0.295995\n",
      "2         0.317965   0.237237    0.285714  0.288527\n",
      "3         0.410175   0.279279    0.457926  0.397149\n",
      "4         0.020668   0.015015    0.017613  0.018330\n",
      "coltotal  1.000000   1.000000    1.000000  1.000000\n",
      "\n",
      "Next we will calculate the posterior probabilities(represented by values in the printed table) by dividing with the respective row totals\n",
      "\n",
      "            no-use  long-term  short-term  rowtotal\n",
      "1         0.362385   0.357798    0.279817       1.0\n",
      "2         0.470588   0.185882    0.343529       1.0\n",
      "3         0.441026   0.158974    0.400000       1.0\n",
      "4         0.481481   0.185185    0.333333       1.0\n",
      "coltotal  0.427020   0.226069    0.346911       1.0\n",
      "\n",
      "Next we will represent the above contingency table in the form of heatmap using seaborn library \n",
      "\n",
      "AxesSubplot(0.125,0.125;0.62x0.755)\n"
     ]
    },
    {
     "data": {
      "image/png": "[encoded data removed]",
      "text/plain": [
       "<Figure size 432x288 with 2 Axes>"
      ]
     },
     "metadata": {
      "needs_background": "light"
     },
     "output_type": "display_data"
    }
   ],
   "source": [
    "print('\\nContraceptive and Husband job status\\n')\n",
    "job_husband_effect = pd.crosstab(index = data['job_husband'], columns = data['contraceptive'], margins=True, margins_name=\"Total\")\n",
    "job_husband_effect.columns = [\"no-use\",\"long-term\",\"short-term\",\"rowtotal\"]\n",
    "job_husband_effect.index= [\"1\",\"2\",\"3\",\"4\",\"coltotal\"]\n",
    "print('\\nThe contingency (two-way frequency table) is given below\\n')\n",
    "print(job_husband_effect)\n",
    "\n",
    "print('\\nNext we will calculate the prior probabilities(represented by values in the printed table) by dividing with the respective column totals\\n')\n",
    "print(job_husband_effect/job_husband_effect.loc[\"coltotal\"])\n",
    "\n",
    "print('\\nNext we will calculate the posterior probabilities(represented by values in the printed table) by dividing with the respective row totals\\n')\n",
    "print(job_husband_effect.div(job_husband_effect[\"rowtotal\"],axis=0))\n",
    "\n",
    "print('\\nNext we will represent the above contingency table in the form of heatmap using seaborn library \\n')\n",
    "job_husband_effect1 = pd.crosstab(index = data['job_husband'], columns = data['contraceptive'])\n",
    "print(sns.heatmap(job_husband_effect1,cmap = 'YlGnBu', linewidths=.5, annot=True, fmt='d'))\n",
    "#sns.despine(left=True, bottom=True, right=True)"
   ]
  },
  {
   "cell_type": "markdown",
   "metadata": {},
   "source": [
    "No clear effect can be observed."
   ]
  },
  {
   "cell_type": "code",
   "execution_count": 27,
   "metadata": {},
   "outputs": [
    {
     "name": "stdout",
     "output_type": "stream",
     "text": [
      "\n",
      "Contraceptive and Living standard\n",
      "\n",
      "\n",
      "The contingency (two-way frequency table) is given below\n",
      "\n",
      "          no-use  long-term  short-term  rowtotal\n",
      "low           80          9          40       129\n",
      "high1        117         30          82       229\n",
      "high2        184         90         157       431\n",
      "high3        248        204         232       684\n",
      "coltotal     629        333         511      1473\n",
      "\n",
      "Next we will calculate the prior probabilities(represented by values in the printed table) by dividing with the respective column totals\n",
      "\n",
      "            no-use  long-term  short-term  rowtotal\n",
      "low       0.127186   0.027027    0.078278  0.087576\n",
      "high1     0.186010   0.090090    0.160470  0.155465\n",
      "high2     0.292528   0.270270    0.307241  0.292600\n",
      "high3     0.394277   0.612613    0.454012  0.464358\n",
      "coltotal  1.000000   1.000000    1.000000  1.000000\n",
      "\n",
      "Next we will calculate the posterior probabilities(represented by values in the printed table) by dividing with the respective row totals\n",
      "\n",
      "            no-use  long-term  short-term  rowtotal\n",
      "low       0.620155   0.069767    0.310078       1.0\n",
      "high1     0.510917   0.131004    0.358079       1.0\n",
      "high2     0.426914   0.208817    0.364269       1.0\n",
      "high3     0.362573   0.298246    0.339181       1.0\n",
      "coltotal  0.427020   0.226069    0.346911       1.0\n",
      "\n",
      "Next we will represent the above contingency table in the form of heatmap using seaborn library \n",
      "\n",
      "AxesSubplot(0.125,0.125;0.62x0.755)\n"
     ]
    },
    {
     "data": {
      "image/png": "[encoded data removed]",
      "text/plain": [
       "<Figure size 432x288 with 2 Axes>"
      ]
     },
     "metadata": {
      "needs_background": "light"
     },
     "output_type": "display_data"
    }
   ],
   "source": [
    "print('\\nContraceptive and Living standard\\n')\n",
    "living_std_effect = pd.crosstab(index = data['living_std'], columns = data['contraceptive'], margins=True, margins_name=\"Total\")\n",
    "living_std_effect.columns = [\"no-use\",\"long-term\",\"short-term\",\"rowtotal\"]\n",
    "living_std_effect.index= [\"low\",\"high1\",\"high2\",\"high3\",\"coltotal\"]\n",
    "print('\\nThe contingency (two-way frequency table) is given below\\n')\n",
    "print(living_std_effect)\n",
    "\n",
    "print('\\nNext we will calculate the prior probabilities(represented by values in the printed table) by dividing with the respective column totals\\n')\n",
    "print(living_std_effect/living_std_effect.loc[\"coltotal\"])\n",
    "\n",
    "print('\\nNext we will calculate the posterior probabilities(represented by values in the printed table) by dividing with the respective row totals\\n')\n",
    "print(living_std_effect.div(living_std_effect[\"rowtotal\"],axis=0))\n",
    "\n",
    "print('\\nNext we will represent the above contingency table in the form of heatmap using seaborn library \\n')\n",
    "living_std_effect1 = pd.crosstab(index = data['living_std'], columns = data['contraceptive'])\n",
    "print(sns.heatmap(living_std_effect1,cmap = 'YlGnBu', linewidths=.5, annot=True, fmt='d'))\n",
    "#sns.despine(left=True, bottom=True, right=True)"
   ]
  },
  {
   "cell_type": "markdown",
   "metadata": {},
   "source": [
    "Low living standard clearly coincides with less use of contraceptives. Among those with low living standards, no use of contraceptives is most common, whereas among the highest living standard people, all three contraceptive modes are equally likely."
   ]
  },
  {
   "cell_type": "code",
   "execution_count": 28,
   "metadata": {},
   "outputs": [
    {
     "name": "stdout",
     "output_type": "stream",
     "text": [
      "\n",
      "Contraceptive and Media Exposure\n",
      "\n",
      "\n",
      "The contingency (two-way frequency table) is given below\n",
      "\n",
      "               no-use  long-term  short-term  rowtotal\n",
      "good exposure     555        323         486      1364\n",
      "bad exposure       74         10          25       109\n",
      "coltotal          629        333         511      1473\n",
      "\n",
      "Next we will calculate the prior probabilities(represented by values in the printed table) by dividing with the respective column totals\n",
      "\n",
      "                 no-use  long-term  short-term  rowtotal\n",
      "good exposure  0.882353    0.96997    0.951076  0.926001\n",
      "bad exposure   0.117647    0.03003    0.048924  0.073999\n",
      "coltotal       1.000000    1.00000    1.000000  1.000000\n",
      "\n",
      "Next we will calculate the posterior probabilities(represented by values in the printed table) by dividing with the respective row totals\n",
      "\n",
      "                 no-use  long-term  short-term  rowtotal\n",
      "good exposure  0.406891   0.236804    0.356305       1.0\n",
      "bad exposure   0.678899   0.091743    0.229358       1.0\n",
      "coltotal       0.427020   0.226069    0.346911       1.0\n",
      "\n",
      "Next we will represent the above contingency table in the form of heatmap using seaborn library \n",
      "\n",
      "AxesSubplot(0.125,0.125;0.62x0.755)\n"
     ]
    },
    {
     "data": {
      "image/png": "[encoded data removed]",
      "text/plain": [
       "<Figure size 432x288 with 2 Axes>"
      ]
     },
     "metadata": {
      "needs_background": "light"
     },
     "output_type": "display_data"
    }
   ],
   "source": [
    "print('\\nContraceptive and Media Exposure\\n')\n",
    "media_effect = pd.crosstab(index = data['media'], columns = data['contraceptive'], margins=True, margins_name=\"Total\")\n",
    "media_effect.columns = [\"no-use\",\"long-term\",\"short-term\",\"rowtotal\"]\n",
    "media_effect.index= [\"good exposure\",\"bad exposure\",\"coltotal\"]\n",
    "print('\\nThe contingency (two-way frequency table) is given below\\n')\n",
    "print(media_effect)\n",
    "\n",
    "print('\\nNext we will calculate the prior probabilities(represented by values in the printed table) by dividing with the respective column totals\\n')\n",
    "print(media_effect/media_effect.loc[\"coltotal\"])\n",
    "\n",
    "print('\\nNext we will calculate the posterior probabilities(represented by values in the printed table) by dividing with the respective row totals\\n')\n",
    "print(media_effect.div(media_effect[\"rowtotal\"],axis=0))\n",
    "\n",
    "print('\\nNext we will represent the above contingency table in the form of heatmap using seaborn library \\n')\n",
    "media_effect1 = pd.crosstab(index = data['media'], columns = data['contraceptive'])\n",
    "print(sns.heatmap(media_effect1,cmap = 'YlGnBu', linewidths=.5, annot=True, fmt='d'))\n",
    "#sns.despine(left=True, bottom=True, right=True)"
   ]
  },
  {
   "cell_type": "markdown",
   "metadata": {},
   "source": [
    "Due to less data available for people with bad media exposure, nothing can be concluded."
   ]
  }
 ],
 "metadata": {
  "kernelspec": {
   "display_name": "Python 3",
   "language": "python",
   "name": "python3"
  },
  "language_info": {
   "codemirror_mode": {
    "name": "ipython",
    "version": 3
   },
   "file_extension": ".py",
   "mimetype": "text/x-python",
   "name": "python",
   "nbconvert_exporter": "python",
   "pygments_lexer": "ipython3",
   "version": "3.7.4"
  }
 },
 "nbformat": 4,
 "nbformat_minor": 2
}
