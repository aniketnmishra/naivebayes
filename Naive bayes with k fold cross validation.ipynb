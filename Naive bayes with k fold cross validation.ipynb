{
 "cells": [
  {
   "cell_type": "code",
   "execution_count": 42,
   "metadata": {},
   "outputs": [],
   "source": [
    "#importing required libraries\n",
    "from sklearn import metrics\n",
    "from sklearn.naive_bayes import GaussianNB\n",
    "import pandas as pd\n",
    "from matplotlib import pyplot as plt"
   ]
  },
  {
   "cell_type": "code",
   "execution_count": 43,
   "metadata": {},
   "outputs": [],
   "source": [
    "#importing cmc dataset\n",
    "dataset = pd.read_csv(\"CMC.csv\")\n",
    "X=dataset.iloc[:,0:-1]\n",
    "y=dataset.iloc[:,-1].values"
   ]
  },
  {
   "cell_type": "code",
   "execution_count": 44,
   "metadata": {},
   "outputs": [
    {
     "data": {
      "text/html": [
       "<div>\n",
       "<style scoped>\n",
       "    .dataframe tbody tr th:only-of-type {\n",
       "        vertical-align: middle;\n",
       "    }\n",
       "\n",
       "    .dataframe tbody tr th {\n",
       "        vertical-align: top;\n",
       "    }\n",
       "\n",
       "    .dataframe thead th {\n",
       "        text-align: right;\n",
       "    }\n",
       "</style>\n",
       "<table border=\"1\" class=\"dataframe\">\n",
       "  <thead>\n",
       "    <tr style=\"text-align: right;\">\n",
       "      <th></th>\n",
       "      <th>age</th>\n",
       "      <th>edu_wife</th>\n",
       "      <th>edu_husband</th>\n",
       "      <th>children</th>\n",
       "      <th>religion</th>\n",
       "      <th>working</th>\n",
       "      <th>job_husband</th>\n",
       "      <th>living_std</th>\n",
       "      <th>media</th>\n",
       "      <th>contraceptive</th>\n",
       "    </tr>\n",
       "  </thead>\n",
       "  <tbody>\n",
       "    <tr>\n",
       "      <td>0</td>\n",
       "      <td>24</td>\n",
       "      <td>2</td>\n",
       "      <td>3</td>\n",
       "      <td>3</td>\n",
       "      <td>1</td>\n",
       "      <td>1</td>\n",
       "      <td>2</td>\n",
       "      <td>3</td>\n",
       "      <td>0</td>\n",
       "      <td>1</td>\n",
       "    </tr>\n",
       "    <tr>\n",
       "      <td>1</td>\n",
       "      <td>45</td>\n",
       "      <td>1</td>\n",
       "      <td>3</td>\n",
       "      <td>10</td>\n",
       "      <td>1</td>\n",
       "      <td>1</td>\n",
       "      <td>3</td>\n",
       "      <td>4</td>\n",
       "      <td>0</td>\n",
       "      <td>1</td>\n",
       "    </tr>\n",
       "    <tr>\n",
       "      <td>2</td>\n",
       "      <td>43</td>\n",
       "      <td>2</td>\n",
       "      <td>3</td>\n",
       "      <td>7</td>\n",
       "      <td>1</td>\n",
       "      <td>1</td>\n",
       "      <td>3</td>\n",
       "      <td>4</td>\n",
       "      <td>0</td>\n",
       "      <td>1</td>\n",
       "    </tr>\n",
       "    <tr>\n",
       "      <td>3</td>\n",
       "      <td>42</td>\n",
       "      <td>3</td>\n",
       "      <td>2</td>\n",
       "      <td>9</td>\n",
       "      <td>1</td>\n",
       "      <td>1</td>\n",
       "      <td>3</td>\n",
       "      <td>3</td>\n",
       "      <td>0</td>\n",
       "      <td>1</td>\n",
       "    </tr>\n",
       "    <tr>\n",
       "      <td>4</td>\n",
       "      <td>36</td>\n",
       "      <td>3</td>\n",
       "      <td>3</td>\n",
       "      <td>8</td>\n",
       "      <td>1</td>\n",
       "      <td>1</td>\n",
       "      <td>3</td>\n",
       "      <td>2</td>\n",
       "      <td>0</td>\n",
       "      <td>1</td>\n",
       "    </tr>\n",
       "  </tbody>\n",
       "</table>\n",
       "</div>"
      ],
      "text/plain": [
       "   age  edu_wife  edu_husband  children  religion  working  job_husband  \\\n",
       "0   24         2            3         3         1        1            2   \n",
       "1   45         1            3        10         1        1            3   \n",
       "2   43         2            3         7         1        1            3   \n",
       "3   42         3            2         9         1        1            3   \n",
       "4   36         3            3         8         1        1            3   \n",
       "\n",
       "   living_std  media  contraceptive  \n",
       "0           3      0              1  \n",
       "1           4      0              1  \n",
       "2           4      0              1  \n",
       "3           3      0              1  \n",
       "4           2      0              1  "
      ]
     },
     "execution_count": 44,
     "metadata": {},
     "output_type": "execute_result"
    }
   ],
   "source": [
    "#printing first five columns of dataset\n",
    "dataset.head()"
   ]
  },
  {
   "cell_type": "code",
   "execution_count": 45,
   "metadata": {},
   "outputs": [],
   "source": [
    "#scaling the input variables\n",
    "from sklearn.preprocessing import  MinMaxScaler\n",
    "sc = MinMaxScaler()\n",
    "X = sc.fit_transform(X)"
   ]
  },
  {
   "cell_type": "code",
   "execution_count": 46,
   "metadata": {},
   "outputs": [
    {
     "data": {
      "text/html": [
       "<div>\n",
       "<style scoped>\n",
       "    .dataframe tbody tr th:only-of-type {\n",
       "        vertical-align: middle;\n",
       "    }\n",
       "\n",
       "    .dataframe tbody tr th {\n",
       "        vertical-align: top;\n",
       "    }\n",
       "\n",
       "    .dataframe thead th {\n",
       "        text-align: right;\n",
       "    }\n",
       "</style>\n",
       "<table border=\"1\" class=\"dataframe\">\n",
       "  <thead>\n",
       "    <tr style=\"text-align: right;\">\n",
       "      <th></th>\n",
       "      <th>age</th>\n",
       "      <th>edu_wife</th>\n",
       "      <th>edu_husband</th>\n",
       "      <th>children</th>\n",
       "      <th>religion</th>\n",
       "      <th>working</th>\n",
       "      <th>job_husband</th>\n",
       "      <th>living_std</th>\n",
       "      <th>media</th>\n",
       "      <th>contraceptive</th>\n",
       "    </tr>\n",
       "  </thead>\n",
       "  <tbody>\n",
       "    <tr>\n",
       "      <td>age</td>\n",
       "      <td>1.000000</td>\n",
       "      <td>-0.048011</td>\n",
       "      <td>-0.052879</td>\n",
       "      <td>0.540126</td>\n",
       "      <td>-0.139543</td>\n",
       "      <td>-0.039880</td>\n",
       "      <td>-0.202532</td>\n",
       "      <td>0.184485</td>\n",
       "      <td>0.113306</td>\n",
       "      <td>-0.162953</td>\n",
       "    </tr>\n",
       "    <tr>\n",
       "      <td>edu_wife</td>\n",
       "      <td>-0.048011</td>\n",
       "      <td>1.000000</td>\n",
       "      <td>0.618369</td>\n",
       "      <td>-0.193839</td>\n",
       "      <td>-0.232973</td>\n",
       "      <td>-0.062200</td>\n",
       "      <td>-0.395921</td>\n",
       "      <td>0.361450</td>\n",
       "      <td>-0.336080</td>\n",
       "      <td>0.149777</td>\n",
       "    </tr>\n",
       "    <tr>\n",
       "      <td>edu_husband</td>\n",
       "      <td>-0.052879</td>\n",
       "      <td>0.618369</td>\n",
       "      <td>1.000000</td>\n",
       "      <td>-0.187513</td>\n",
       "      <td>-0.178447</td>\n",
       "      <td>0.001099</td>\n",
       "      <td>-0.337003</td>\n",
       "      <td>0.357490</td>\n",
       "      <td>-0.288691</td>\n",
       "      <td>0.103226</td>\n",
       "    </tr>\n",
       "    <tr>\n",
       "      <td>children</td>\n",
       "      <td>0.540126</td>\n",
       "      <td>-0.193839</td>\n",
       "      <td>-0.187513</td>\n",
       "      <td>1.000000</td>\n",
       "      <td>0.073917</td>\n",
       "      <td>0.097316</td>\n",
       "      <td>-0.023000</td>\n",
       "      <td>-0.006046</td>\n",
       "      <td>0.133658</td>\n",
       "      <td>0.082772</td>\n",
       "    </tr>\n",
       "    <tr>\n",
       "      <td>religion</td>\n",
       "      <td>-0.139543</td>\n",
       "      <td>-0.232973</td>\n",
       "      <td>-0.178447</td>\n",
       "      <td>0.073917</td>\n",
       "      <td>1.000000</td>\n",
       "      <td>0.069837</td>\n",
       "      <td>0.084417</td>\n",
       "      <td>-0.196308</td>\n",
       "      <td>0.060243</td>\n",
       "      <td>-0.025271</td>\n",
       "    </tr>\n",
       "    <tr>\n",
       "      <td>working</td>\n",
       "      <td>-0.039880</td>\n",
       "      <td>-0.062200</td>\n",
       "      <td>0.001099</td>\n",
       "      <td>0.097316</td>\n",
       "      <td>0.069837</td>\n",
       "      <td>1.000000</td>\n",
       "      <td>0.014232</td>\n",
       "      <td>-0.076505</td>\n",
       "      <td>0.001828</td>\n",
       "      <td>0.054438</td>\n",
       "    </tr>\n",
       "    <tr>\n",
       "      <td>job_husband</td>\n",
       "      <td>-0.202532</td>\n",
       "      <td>-0.395921</td>\n",
       "      <td>-0.337003</td>\n",
       "      <td>-0.023000</td>\n",
       "      <td>0.084417</td>\n",
       "      <td>0.014232</td>\n",
       "      <td>1.000000</td>\n",
       "      <td>-0.293831</td>\n",
       "      <td>0.113925</td>\n",
       "      <td>0.018161</td>\n",
       "    </tr>\n",
       "    <tr>\n",
       "      <td>living_std</td>\n",
       "      <td>0.184485</td>\n",
       "      <td>0.361450</td>\n",
       "      <td>0.357490</td>\n",
       "      <td>-0.006046</td>\n",
       "      <td>-0.196308</td>\n",
       "      <td>-0.076505</td>\n",
       "      <td>-0.293831</td>\n",
       "      <td>1.000000</td>\n",
       "      <td>-0.251359</td>\n",
       "      <td>0.091149</td>\n",
       "    </tr>\n",
       "    <tr>\n",
       "      <td>media</td>\n",
       "      <td>0.113306</td>\n",
       "      <td>-0.336080</td>\n",
       "      <td>-0.288691</td>\n",
       "      <td>0.133658</td>\n",
       "      <td>0.060243</td>\n",
       "      <td>0.001828</td>\n",
       "      <td>0.113925</td>\n",
       "      <td>-0.251359</td>\n",
       "      <td>1.000000</td>\n",
       "      <td>-0.119206</td>\n",
       "    </tr>\n",
       "    <tr>\n",
       "      <td>contraceptive</td>\n",
       "      <td>-0.162953</td>\n",
       "      <td>0.149777</td>\n",
       "      <td>0.103226</td>\n",
       "      <td>0.082772</td>\n",
       "      <td>-0.025271</td>\n",
       "      <td>0.054438</td>\n",
       "      <td>0.018161</td>\n",
       "      <td>0.091149</td>\n",
       "      <td>-0.119206</td>\n",
       "      <td>1.000000</td>\n",
       "    </tr>\n",
       "  </tbody>\n",
       "</table>\n",
       "</div>"
      ],
      "text/plain": [
       "                    age  edu_wife  edu_husband  children  religion   working  \\\n",
       "age            1.000000 -0.048011    -0.052879  0.540126 -0.139543 -0.039880   \n",
       "edu_wife      -0.048011  1.000000     0.618369 -0.193839 -0.232973 -0.062200   \n",
       "edu_husband   -0.052879  0.618369     1.000000 -0.187513 -0.178447  0.001099   \n",
       "children       0.540126 -0.193839    -0.187513  1.000000  0.073917  0.097316   \n",
       "religion      -0.139543 -0.232973    -0.178447  0.073917  1.000000  0.069837   \n",
       "working       -0.039880 -0.062200     0.001099  0.097316  0.069837  1.000000   \n",
       "job_husband   -0.202532 -0.395921    -0.337003 -0.023000  0.084417  0.014232   \n",
       "living_std     0.184485  0.361450     0.357490 -0.006046 -0.196308 -0.076505   \n",
       "media          0.113306 -0.336080    -0.288691  0.133658  0.060243  0.001828   \n",
       "contraceptive -0.162953  0.149777     0.103226  0.082772 -0.025271  0.054438   \n",
       "\n",
       "               job_husband  living_std     media  contraceptive  \n",
       "age              -0.202532    0.184485  0.113306      -0.162953  \n",
       "edu_wife         -0.395921    0.361450 -0.336080       0.149777  \n",
       "edu_husband      -0.337003    0.357490 -0.288691       0.103226  \n",
       "children         -0.023000   -0.006046  0.133658       0.082772  \n",
       "religion          0.084417   -0.196308  0.060243      -0.025271  \n",
       "working           0.014232   -0.076505  0.001828       0.054438  \n",
       "job_husband       1.000000   -0.293831  0.113925       0.018161  \n",
       "living_std       -0.293831    1.000000 -0.251359       0.091149  \n",
       "media             0.113925   -0.251359  1.000000      -0.119206  \n",
       "contraceptive     0.018161    0.091149 -0.119206       1.000000  "
      ]
     },
     "execution_count": 46,
     "metadata": {},
     "output_type": "execute_result"
    }
   ],
   "source": [
    "#Correlation table to see if any of the variables are highly correlated\n",
    "dataset.corr()"
   ]
  },
  {
   "cell_type": "code",
   "execution_count": 47,
   "metadata": {},
   "outputs": [],
   "source": [
    "#splitting datset into training and testing data\n",
    "from sklearn.model_selection import train_test_split\n",
    "X_train, X_test, y_train, y_test = train_test_split(X, y, test_size=0.25)"
   ]
  },
  {
   "cell_type": "code",
   "execution_count": 48,
   "metadata": {},
   "outputs": [
    {
     "data": {
      "text/plain": [
       "GaussianNB(priors=None, var_smoothing=1e-09)"
      ]
     },
     "execution_count": 48,
     "metadata": {},
     "output_type": "execute_result"
    }
   ],
   "source": [
    "#making a instance of naive bayes classifier \n",
    "model = GaussianNB()\n",
    "model.fit(X_train,y_train)"
   ]
  },
  {
   "cell_type": "code",
   "execution_count": 49,
   "metadata": {},
   "outputs": [],
   "source": [
    "#expected value and predictions\n",
    "expected = y_test\n",
    "predicted = model.predict(X_test)"
   ]
  },
  {
   "cell_type": "code",
   "execution_count": 50,
   "metadata": {},
   "outputs": [
    {
     "name": "stdout",
     "output_type": "stream",
     "text": [
      "              precision    recall  f1-score   support\n",
      "\n",
      "           1       0.60      0.36      0.45       153\n",
      "           2       0.39      0.64      0.48        84\n",
      "           3       0.48      0.50      0.49       132\n",
      "\n",
      "    accuracy                           0.47       369\n",
      "   macro avg       0.49      0.50      0.47       369\n",
      "weighted avg       0.51      0.47      0.47       369\n",
      "\n",
      "[[55 45 53]\n",
      " [12 54 18]\n",
      " [25 41 66]]\n"
     ]
    }
   ],
   "source": [
    "#Classification report and confusion matrix\n",
    "print(metrics.classification_report(expected, predicted))\n",
    "print(metrics.confusion_matrix(expected, predicted))"
   ]
  },
  {
   "cell_type": "code",
   "execution_count": 51,
   "metadata": {},
   "outputs": [],
   "source": [
    "#importing the required libraries for using k fold cross validation\n",
    "from sklearn.model_selection import cross_val_score, cross_val_predict\n",
    "from sklearn import metrics"
   ]
  },
  {
   "cell_type": "code",
   "execution_count": 52,
   "metadata": {},
   "outputs": [
    {
     "name": "stdout",
     "output_type": "stream",
     "text": [
      "Cross-validated scores: [0.54716981 0.45283019 0.47169811 0.3490566  0.48113208 0.54716981\n",
      " 0.43396226 0.44761905 0.5047619  0.42857143 0.45714286 0.49038462\n",
      " 0.41346154 0.51456311]\n"
     ]
    }
   ],
   "source": [
    "# sample cross validation for k=14\n",
    "scores = cross_val_score(model, X, y, cv=14)\n",
    "print (\"Cross-validated scores:\", scores)"
   ]
  },
  {
   "cell_type": "code",
   "execution_count": 53,
   "metadata": {},
   "outputs": [],
   "source": [
    "#Making a dictionary with k values as keys and mean of cross validation score as values\n",
    "s={}\n",
    "for i in range(2,31):\n",
    "    scores = cross_val_score(model, X, y, cv=i+1)\n",
    "    s[i]=scores.mean()\n",
    "    i=i+1"
   ]
  },
  {
   "cell_type": "code",
   "execution_count": 54,
   "metadata": {},
   "outputs": [
    {
     "data": {
      "image/png": "[encoded data removed]",
      "text/plain": [
       "<Figure size 432x288 with 1 Axes>"
      ]
     },
     "metadata": {
      "needs_background": "light"
     },
     "output_type": "display_data"
    }
   ],
   "source": [
    "#We have plotted Cross Validation Score Vs K values to find best value of k, k=14 gives best cross validation score and is stable\n",
    "fig, ax = plt.subplots()\n",
    "lists = sorted(s.items())\n",
    "x, y = zip(*lists) \n",
    "ax.plot(x, y)\n",
    "ax.set_xlabel('K value')\n",
    "ax.set_ylabel('Cross validation score')\n",
    "ax.set_title('Mean Cross validation score Vs K value')\n",
    "plt.show()"
   ]
  }
 ],
 "metadata": {
  "kernelspec": {
   "display_name": "Python 3",
   "language": "python",
   "name": "python3"
  },
  "language_info": {
   "codemirror_mode": {
    "name": "ipython",
    "version": 3
   },
   "file_extension": ".py",
   "mimetype": "text/x-python",
   "name": "python",
   "nbconvert_exporter": "python",
   "pygments_lexer": "ipython3",
   "version": "3.7.4"
  }
 },
 "nbformat": 4,
 "nbformat_minor": 2
}
